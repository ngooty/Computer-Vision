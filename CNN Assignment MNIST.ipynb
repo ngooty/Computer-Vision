{
 "cells": [
  {
   "cell_type": "code",
   "execution_count": 103,
   "metadata": {},
   "outputs": [],
   "source": [
    "import keras\n",
    "from keras.datasets import mnist\n",
    "from keras.layers import Activation, Dense, Flatten,Conv2D,MaxPooling2D,Dropout,BatchNormalization\n",
    "from keras.models import Sequential\n",
    "from keras.preprocessing.image import ImageDataGenerator\n",
    "import numpy as np\n",
    "from keras import regularizers\n",
    "from keras.callbacks import LearningRateScheduler\n",
    "from keras.utils import np_utils"
   ]
  },
  {
   "cell_type": "code",
   "execution_count": 104,
   "metadata": {},
   "outputs": [],
   "source": [
    "def lr_schedule(epoch):\n",
    "    lrate=0.0001\n",
    "    if epoch > 75:\n",
    "        lrate=0.0005\n",
    "    if epoch > 100:\n",
    "        lrate=0.0003\n",
    "    return lrate"
   ]
  },
  {
   "cell_type": "code",
   "execution_count": 105,
   "metadata": {},
   "outputs": [],
   "source": [
    "(xtrain,ytrain),(xtest,ytest)=mnist.load_data()\n",
    "xtrain=xtrain.astype('float32')\n",
    "xtest=xtest.astype('float32')"
   ]
  },
  {
   "cell_type": "code",
   "execution_count": 106,
   "metadata": {},
   "outputs": [
    {
     "data": {
      "text/plain": [
       "((60000, 28, 28, 1), (60000,))"
      ]
     },
     "execution_count": 106,
     "metadata": {},
     "output_type": "execute_result"
    }
   ],
   "source": [
    "#z-score - normalization\n",
    "mean=np.mean(xtrain,axis=(0,1,2))\n",
    "std=np.std(xtrain,axis=(0,1,2))\n",
    "xtrain=(xtrain-mean)/(std+1e-7)\n",
    "xtest=(xtest-mean)/(std+1e-7)\n",
    "\n",
    "xtrain = np.reshape(xtrain, (xtrain.shape[0], xtrain.shape[1],xtrain.shape[2], 1))\n",
    "xtest=np.reshape(xtest,(xtest.shape[0],xtest.shape[1],xtrain.shape[2],1))\n",
    "xtrain.shape,ytrain.shape"
   ]
  },
  {
   "cell_type": "code",
   "execution_count": 107,
   "metadata": {},
   "outputs": [],
   "source": [
    "model=Sequential()       "
   ]
  },
  {
   "cell_type": "code",
   "execution_count": 108,
   "metadata": {},
   "outputs": [],
   "source": [
    "weight_decay=1e-4\n",
    "num_classes=10\n",
    "ytrain=np_utils.to_categorical(ytrain,num_classes)\n",
    "ytest=np_utils.to_categorical(ytest,num_classes)"
   ]
  },
  {
   "cell_type": "code",
   "execution_count": 109,
   "metadata": {},
   "outputs": [
    {
     "name": "stdout",
     "output_type": "stream",
     "text": [
      "Model: \"sequential_7\"\n",
      "_________________________________________________________________\n",
      "Layer (type)                 Output Shape              Param #   \n",
      "=================================================================\n",
      "conv2d_12 (Conv2D)           (None, 28, 28, 32)        320       \n",
      "_________________________________________________________________\n",
      "activation_9 (Activation)    (None, 28, 28, 32)        0         \n",
      "_________________________________________________________________\n",
      "batch_normalization_9 (Batch (None, 28, 28, 32)        128       \n",
      "_________________________________________________________________\n",
      "conv2d_13 (Conv2D)           (None, 28, 28, 32)        9248      \n",
      "_________________________________________________________________\n",
      "activation_10 (Activation)   (None, 28, 28, 32)        0         \n",
      "_________________________________________________________________\n",
      "batch_normalization_10 (Batc (None, 28, 28, 32)        128       \n",
      "_________________________________________________________________\n",
      "max_pooling2d_5 (MaxPooling2 (None, 14, 14, 32)        0         \n",
      "_________________________________________________________________\n",
      "dropout_5 (Dropout)          (None, 14, 14, 32)        0         \n",
      "_________________________________________________________________\n",
      "flatten_5 (Flatten)          (None, 6272)              0         \n",
      "_________________________________________________________________\n",
      "dense_4 (Dense)              (None, 10)                62730     \n",
      "=================================================================\n",
      "Total params: 72,554\n",
      "Trainable params: 72,426\n",
      "Non-trainable params: 128\n",
      "_________________________________________________________________\n"
     ]
    }
   ],
   "source": [
    "model.add(Conv2D(32,(3,3), padding='same',kernel_regularizer=regularizers.l2(weight_decay),input_shape=xtrain.shape[1:]))\n",
    "model.add(Activation('elu'))\n",
    "model.add(BatchNormalization())\n",
    "model.add(Conv2D(32,(3,3), padding='same',kernel_regularizer=regularizers.l2(weight_decay)))\n",
    "model.add(Activation('elu'))\n",
    "model.add(BatchNormalization())\n",
    "model.add(MaxPooling2D(pool_size=(2,2)))\n",
    "model.add(Dropout(0.2))\n",
    "\n",
    "model.add(Flatten())\n",
    "model.add(Dense(10,activation='softmax'))\n",
    "\n",
    "model.summary()\n",
    "#\"I'm travelling to USA in June this year provided my visa gets renewed ......\""
   ]
  },
  {
   "cell_type": "code",
   "execution_count": 110,
   "metadata": {},
   "outputs": [],
   "source": [
    "datagen=ImageDataGenerator(rotation_range=90,vertical_flip=True, horizontal_flip=True)\n",
    "datagen.fit(xtrain)"
   ]
  },
  {
   "cell_type": "code",
   "execution_count": 120,
   "metadata": {},
   "outputs": [],
   "source": [
    "#training\n",
    "\n",
    "batch_size=64\n",
    "opt_rms=keras.optimizers.rmsprop(lr=0.0001,decay=1e-6)\n",
    "model.compile(loss='categorical_crossentropy',optimizer=opt_rms, metrics=['accuracy'])\n",
    "\n"
   ]
  },
  {
   "cell_type": "code",
   "execution_count": null,
   "metadata": {},
   "outputs": [],
   "source": [
    "model.fit_generator(datagen.flow(xtrain,ytrain, batch_size=batch_size),steps_per_epoch=xtrain.shape[0] // batch_size,epochs=36,verbose=1)\n"
   ]
  },
  {
   "cell_type": "code",
   "execution_count": 118,
   "metadata": {},
   "outputs": [],
   "source": [
    "model_json=model.to_json()\n",
    "with open('/Users/NagarajuGooty/Downloads/model.json', 'w') as f:\n",
    "    f.write(model_json)\n",
    "model.save_weights('model.h5')\n",
    "\n"
   ]
  },
  {
   "cell_type": "code",
   "execution_count": 122,
   "metadata": {},
   "outputs": [
    {
     "data": {
      "text/plain": [
       "((10000, 28, 28, 1), (10000,))"
      ]
     },
     "execution_count": 122,
     "metadata": {},
     "output_type": "execute_result"
    }
   ],
   "source": [
    "#testing\n",
    "scores=model.evaluate(xtest, ytest,batch_size=128,verbose=1)\n",
    "print('\\n Test Result: %.3f loss: %.3f' % (scores[1]*100,scores[0]))"
   ]
  },
  {
   "cell_type": "code",
   "execution_count": 115,
   "metadata": {},
   "outputs": [],
   "source": [
    "import matplotlib.pyplot as plt\n",
    "\n",
    "def show_images(X):\n",
    "    plt.figure(1)\n",
    "    k=0\n",
    "    for i in range(0,4):\n",
    "        for j in range(0,4):\n",
    "            plt.subplot2grid((4,4),(i,j))\n",
    "            plt.imshow((X[k]))\n",
    "            k+=1\n",
    "    plt.show()"
   ]
  },
  {
   "cell_type": "code",
   "execution_count": 116,
   "metadata": {},
   "outputs": [
    {
     "name": "stdout",
     "output_type": "stream",
     "text": [
      "(10000, 28, 28)\n"
     ]
    },
    {
     "data": {
      "image/png": "[encoded data removed]",
      "text/plain": [
       "<Figure size 432x288 with 16 Axes>"
      ]
     },
     "metadata": {
      "needs_background": "light"
     },
     "output_type": "display_data"
    },
    {
     "name": "stdout",
     "output_type": "stream",
     "text": [
      "['Seven', 'Five', 'One', 'zero', 'Four', 'One', 'Four', 'Nine', 'Seven', 'Nine', 'zero', 'Six', 'Nine', 'zero', 'One', 'Three']\n"
     ]
    },
    {
     "data": {
      "text/plain": [
       "array([7, 5, 1, 0, 4, 1, 4, 9, 7, 9, 0, 6, 9, 0, 1, 3])"
      ]
     },
     "execution_count": 116,
     "metadata": {},
     "output_type": "execute_result"
    }
   ],
   "source": [
    "\n",
    "(xtrain,ytrain),(xtest,ytest)=mnist.load_data()\n",
    "xtrain=xtrain.astype('float32')\n",
    "xtest=xtest.astype('float32')\n",
    "\n",
    "#z-score - normalization\n",
    "mean=np.mean(xtrain,axis=(0,1,2))\n",
    "std=np.std(xtrain,axis=(0,1,2))\n",
    "xtrain=(xtrain-mean)/(std+1e-7)\n",
    "xtest=(xtest-mean)/(std+1e-7)\n",
    "\n",
    "print(xtest.shape)\n",
    "\n",
    "show_images(xtest[:16])\n",
    "\n",
    "xtrain = np.reshape(xtrain, (xtrain.shape[0], xtrain.shape[1],xtrain.shape[2], 1))\n",
    "xtest=np.reshape(xtest,(xtest.shape[0],xtest.shape[1],xtrain.shape[2],1))\n",
    "xtrain.shape,ytrain.shape\n",
    "\n",
    "json_file=open('/Users/NagarajuGooty/Downloads/model.json','r')\n",
    "loaded_model=json_file.read()\n",
    "json_file.close()\n",
    "\n",
    "from keras.models import model_from_json\n",
    "model=model_from_json(loaded_model)\n",
    "model.load_weights('model.h5')\n",
    "\n",
    "labels=['zero','One','Two,','Three','Four','Five','Six','Seven','Eight','Nine']\n",
    "\n",
    "indices=np.argmax(model.predict(xtest[:16]),1)\n",
    "\n",
    "print([labels[x] for x in indices])\n",
    "\n",
    "indices\n",
    "\n"
   ]
  }
 ],
 "metadata": {
  "kernelspec": {
   "display_name": "Python 3",
   "language": "python",
   "name": "python3"
  },
  "language_info": {
   "codemirror_mode": {
    "name": "ipython",
    "version": 3
   },
   "file_extension": ".py",
   "mimetype": "text/x-python",
   "name": "python",
   "nbconvert_exporter": "python",
   "pygments_lexer": "ipython3",
   "version": "3.7.7"
  }
 },
 "nbformat": 4,
 "nbformat_minor": 4
}
